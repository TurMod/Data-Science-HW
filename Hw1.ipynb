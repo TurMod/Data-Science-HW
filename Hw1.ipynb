{
  "nbformat": 4,
  "nbformat_minor": 0,
  "metadata": {
    "colab": {
      "provenance": [],
      "authorship_tag": "ABX9TyMAQxedbtFTbL2w34XBsUTr",
      "include_colab_link": true
    },
    "kernelspec": {
      "name": "python3",
      "display_name": "Python 3"
    },
    "language_info": {
      "name": "python"
    }
  },
  "cells": [
    {
      "cell_type": "markdown",
      "metadata": {
        "id": "view-in-github",
        "colab_type": "text"
      },
      "source": [
        "<a href=\"https://colab.research.google.com/github/TurMod/Data-Science-HW/blob/main/Hw1.ipynb\" target=\"_parent\"><img src=\"https://colab.research.google.com/assets/colab-badge.svg\" alt=\"Open In Colab\"/></a>"
      ]
    },
    {
      "cell_type": "code",
      "execution_count": 27,
      "metadata": {
        "id": "ao4_O2KboY5b",
        "colab": {
          "base_uri": "https://localhost:8080/"
        },
        "outputId": "2dc41d71-321e-471f-9a37-c26e0be4adde"
      },
      "outputs": [
        {
          "output_type": "stream",
          "name": "stdout",
          "text": [
            "[ 1  2  3  4  5  6  7  8  9 10]\n",
            "[[0. 0. 0.]\n",
            " [0. 0. 0.]\n",
            " [0. 0. 0.]]\n",
            "[[1 5 9 1 1]\n",
            " [5 9 4 3 5]\n",
            " [6 5 1 5 4]\n",
            " [7 1 5 6 8]\n",
            " [8 2 7 7 3]]\n",
            "[[0.54686798 0.1971937  0.03750381 0.14178605]\n",
            " [0.80623647 0.68412918 0.81493051 0.84440122]\n",
            " [0.25753004 0.21366762 0.66698188 0.27157485]\n",
            " [0.39577014 0.06948464 0.86011651 0.51707272]]\n",
            "[ 6 12  4  8  5]\n",
            "[ 4  0  2 -2 -1]\n",
            "[ 5 36  3 15  6]\n",
            "336\n",
            "[[18 20 10]\n",
            " [53 55 28]]\n",
            "[[ 0.14814815 -0.01234568 -0.12345679]\n",
            " [ 0.03703704 -0.08641975  0.13580247]\n",
            " [-0.31481481  0.40123457  0.01234568]]\n",
            "[[0.29300732 0.12764846 0.63136892 0.00688049]\n",
            " [0.36494393 0.89275483 0.20734484 0.95487423]\n",
            " [0.40253368 0.44044566 0.19558689 0.31141363]\n",
            " [0.78476339 0.92428483 0.82220873 0.45577836]]\n",
            "[[20 56 28 48]\n",
            " [30 24 63 36]\n",
            " [30  8 35 36]]\n",
            "[[0.18834411 0.14869272 0.51978049]\n",
            " [0.28773638 0.05213714 0.3843618 ]]\n",
            "[[ 3 42]\n",
            " [18 12]]\n",
            "[[51 26]\n",
            " [42 22]]\n",
            "1374\n",
            "[[ 0  2 -4 -2]\n",
            " [ 5 -6  3 -6]\n",
            " [ 3 -6 -6 -7]\n",
            " [ 0  1  0  3]]\n",
            "[1.54551351 2.14742428 2.63232494]\n",
            "[[5 9 3 8]\n",
            " [5 4 3 2]\n",
            " [3 9 3 8]]\n",
            "[[25 81  9 64]\n",
            " [25 16  9  4]\n",
            " [ 9 81  9 64]]\n",
            "[3.31662479 5.56776436 6.63324958 6.4807407 ]\n"
          ]
        }
      ],
      "source": [
        "import numpy as np\n",
        "\n",
        "t1 = np.array([1, 2, 3, 4, 5, 6, 7, 8, 9, 10], dtype=int)\n",
        "print(t1)\n",
        "\n",
        "t2 = np.zeros((3, 3))\n",
        "print(t2)\n",
        "\n",
        "t3 = np.random.randint(1, 10, size=(5, 5))\n",
        "print(t3)\n",
        "\n",
        "t4 = np.random.random((4, 4))\n",
        "print(t4)\n",
        "\n",
        "t5_1 = np.random.randint(1, 10, 5)\n",
        "t5_2 = np.random.randint(1, 10, 5)\n",
        "print(t5_1 + t5_2)\n",
        "print(t5_1 - t5_2)\n",
        "print(t5_1 * t5_2)\n",
        "\n",
        "t6_1 = np.array([1, 2, 3, 4, 5, 6 ,7], dtype=int)\n",
        "t6_2 = np.array([8, 9, 10, 11, 12, 13, 14], dtype=int)\n",
        "print(np.dot(t6_1, t6_2))\n",
        "\n",
        "t7_1 = np.random.randint(1, 10, (2, 2))\n",
        "t7_2 = np.random.randint(1, 10, (2, 3))\n",
        "print(np.dot(t7_1, t7_2))\n",
        "\n",
        "t8 = np.linalg.inv(np.random.randint(1, 10, (3, 3)))\n",
        "print(t8)\n",
        "\n",
        "t9 = np.random.random((4, 4)).T\n",
        "print(t9)\n",
        "\n",
        "t10_1 = np.random.randint(1, 10, (3, 4))\n",
        "t10_2 = np.random.randint(1, 10, 4)\n",
        "print(t10_1 * t10_2)\n",
        "\n",
        "t11_1 = np.random.random((2, 3))\n",
        "t11_2 = np.random.random(3)\n",
        "print(t11_1 * t11_2)\n",
        "\n",
        "t12_1 = np.random.randint(1, 10, (2, 2))\n",
        "t12_2 = np.random.randint(1, 10, (2, 2))\n",
        "print(t12_1 * t12_2)\n",
        "\n",
        "t13_1 = np.random.randint(1, 10, (2, 2))\n",
        "t13_2 = np.random.randint(1, 10, (2, 2))\n",
        "print(np.dot(t13_1, t13_2))\n",
        "\n",
        "t14 = np.random.randint(1, 100, (5, 5)).sum()\n",
        "print(t14)\n",
        "\n",
        "t15_1 = np.random.randint(1, 10, (4, 4))\n",
        "t15_2 = np.random.randint(1, 10, (4, 4))\n",
        "print(t15_1 - t15_2)\n",
        "\n",
        "t16 = np.random.random((3, 3)).sum(axis=1)\n",
        "print(t16)\n",
        "\n",
        "t17_1 = np.random.randint(1, 10, (3, 4))\n",
        "t17_2 = t17_1 ** 2\n",
        "print(t17_1)\n",
        "print(t17_2)\n",
        "\n",
        "t18 = np.random.randint(1, 50, 4)\n",
        "print(np.sqrt(t18))"
      ]
    }
  ]
}