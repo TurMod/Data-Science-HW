{
  "nbformat": 4,
  "nbformat_minor": 0,
  "metadata": {
    "colab": {
      "provenance": [],
      "authorship_tag": "ABX9TyNJsCcNxPtU7vrsL2eG8kP8",
      "include_colab_link": true
    },
    "kernelspec": {
      "name": "python3",
      "display_name": "Python 3"
    },
    "language_info": {
      "name": "python"
    }
  },
  "cells": [
    {
      "cell_type": "markdown",
      "metadata": {
        "id": "view-in-github",
        "colab_type": "text"
      },
      "source": [
        "<a href=\"https://colab.research.google.com/github/TurMod/Data-Science-HW/blob/main/Hw1.ipynb\" target=\"_parent\"><img src=\"https://colab.research.google.com/assets/colab-badge.svg\" alt=\"Open In Colab\"/></a>"
      ]
    },
    {
      "cell_type": "code",
      "execution_count": 3,
      "metadata": {
        "id": "ao4_O2KboY5b",
        "colab": {
          "base_uri": "https://localhost:8080/"
        },
        "outputId": "8b99d006-18a6-483e-ee80-3c637b57ecbe"
      },
      "outputs": [
        {
          "output_type": "stream",
          "name": "stdout",
          "text": [
            "[ 1  2  3  4  5  6  7  8  9 10]\n"
          ]
        }
      ],
      "source": [
        "import numpy as np\n",
        "\n",
        "t1 = np.array([1, 2, 3, 4, 5, 6, 7, 8, 9, 10], dtype=int)\n",
        "print(t1)"
      ]
    },
    {
      "cell_type": "code",
      "source": [
        "import numpy as np\n",
        "\n",
        "t2 = np.zeros((3, 3))\n",
        "print(t2)"
      ],
      "metadata": {
        "id": "Q9yxRQ9CeZ1J",
        "colab": {
          "base_uri": "https://localhost:8080/"
        },
        "outputId": "0b84e2bd-280a-465b-c6fd-a45319fdc134"
      },
      "execution_count": 2,
      "outputs": [
        {
          "output_type": "stream",
          "name": "stdout",
          "text": [
            "[[0. 0. 0.]\n",
            " [0. 0. 0.]\n",
            " [0. 0. 0.]]\n"
          ]
        }
      ]
    },
    {
      "cell_type": "code",
      "source": [
        "import numpy as np\n",
        "\n",
        "t3 = np.random.randint(1, 10, size=(5, 5))\n",
        "print(t3)"
      ],
      "metadata": {
        "id": "DUq815gMedG_",
        "colab": {
          "base_uri": "https://localhost:8080/"
        },
        "outputId": "aec11369-1734-4710-c6f4-2d21d8bb0133"
      },
      "execution_count": 5,
      "outputs": [
        {
          "output_type": "stream",
          "name": "stdout",
          "text": [
            "[[3 4 6 4 4]\n",
            " [5 5 5 9 5]\n",
            " [5 3 3 7 2]\n",
            " [9 2 1 5 6]\n",
            " [1 3 7 9 6]]\n"
          ]
        }
      ]
    },
    {
      "cell_type": "code",
      "source": [
        "import numpy as np\n",
        "\n",
        "t4 = np.random.random((4, 4))\n",
        "print(t4)"
      ],
      "metadata": {
        "id": "UicbShrNedNm",
        "colab": {
          "base_uri": "https://localhost:8080/"
        },
        "outputId": "700df393-5372-4142-98bb-91e18905cfc6"
      },
      "execution_count": 6,
      "outputs": [
        {
          "output_type": "stream",
          "name": "stdout",
          "text": [
            "[[0.57481574 0.19836852 0.82225605 0.80750201]\n",
            " [0.77817603 0.56669621 0.93505749 0.32274994]\n",
            " [0.11275184 0.25866714 0.34178917 0.77372733]\n",
            " [0.16944194 0.34277607 0.53175133 0.12542256]]\n"
          ]
        }
      ]
    },
    {
      "cell_type": "code",
      "source": [
        "import numpy as np\n",
        "\n",
        "t5_1 = np.random.randint(1, 10, 5)\n",
        "t5_2 = np.random.randint(1, 10, 5)\n",
        "print(t5_1 + t5_2)\n",
        "print(t5_1 - t5_2)\n",
        "print(t5_1 * t5_2)"
      ],
      "metadata": {
        "id": "JZB2RAzOedTa",
        "colab": {
          "base_uri": "https://localhost:8080/"
        },
        "outputId": "a66e91dc-67bd-4ff6-a753-914ce2f8ce94"
      },
      "execution_count": 7,
      "outputs": [
        {
          "output_type": "stream",
          "name": "stdout",
          "text": [
            "[ 7 10  7  4  9]\n",
            "[-3  8 -5 -2 -1]\n",
            "[10  9  6  3 20]\n"
          ]
        }
      ]
    },
    {
      "cell_type": "code",
      "source": [
        "import numpy as np\n",
        "\n",
        "t6_1 = np.array([1, 2, 3, 4, 5, 6 ,7], dtype=int)\n",
        "t6_2 = np.array([8, 9, 10, 11, 12, 13, 14], dtype=int)\n",
        "print(np.dot(t6_1, t6_2))"
      ],
      "metadata": {
        "id": "3639QXj0edYH",
        "colab": {
          "base_uri": "https://localhost:8080/"
        },
        "outputId": "2b44202f-f6e6-4e41-d354-eed8d5d827ab"
      },
      "execution_count": 8,
      "outputs": [
        {
          "output_type": "stream",
          "name": "stdout",
          "text": [
            "336\n"
          ]
        }
      ]
    },
    {
      "cell_type": "code",
      "source": [
        "import numpy as np\n",
        "\n",
        "t7_1 = np.random.randint(1, 10, (2, 2))\n",
        "t7_2 = np.random.randint(1, 10, (2, 3))\n",
        "print(np.dot(t7_1, t7_2))"
      ],
      "metadata": {
        "id": "YHkKprAFedd-",
        "colab": {
          "base_uri": "https://localhost:8080/"
        },
        "outputId": "83da2484-a5a7-43cc-c167-14aed1709161"
      },
      "execution_count": 9,
      "outputs": [
        {
          "output_type": "stream",
          "name": "stdout",
          "text": [
            "[[  9  25   6]\n",
            " [ 37 137  32]]\n"
          ]
        }
      ]
    },
    {
      "cell_type": "code",
      "source": [
        "import numpy as np\n",
        "\n",
        "t8 = np.linalg.inv(np.random.randint(1, 10, (3, 3)))\n",
        "print(t8)"
      ],
      "metadata": {
        "id": "szeo125_ed1C",
        "colab": {
          "base_uri": "https://localhost:8080/"
        },
        "outputId": "2bae0f06-5803-4b1a-dd85-dc679841a781"
      },
      "execution_count": 10,
      "outputs": [
        {
          "output_type": "stream",
          "name": "stdout",
          "text": [
            "[[ -2.66666667 -13.33333333   4.33333333]\n",
            " [  3.          16.          -5.        ]\n",
            " [ -0.66666667  -4.33333333   1.33333333]]\n"
          ]
        }
      ]
    },
    {
      "cell_type": "code",
      "source": [
        "import numpy as np\n",
        "\n",
        "t9 = np.random.random((4, 4)).T\n",
        "print(t9)"
      ],
      "metadata": {
        "id": "Hfq44aIPeeDK",
        "colab": {
          "base_uri": "https://localhost:8080/"
        },
        "outputId": "31e0aa08-a552-4c34-957c-d148806c0839"
      },
      "execution_count": 11,
      "outputs": [
        {
          "output_type": "stream",
          "name": "stdout",
          "text": [
            "[[0.57751049 0.28933509 0.61885009 0.57492875]\n",
            " [0.60083839 0.38070101 0.1563425  0.68101493]\n",
            " [0.83451059 0.53258835 0.64951619 0.40223337]\n",
            " [0.03828915 0.48893345 0.13007267 0.23783092]]\n"
          ]
        }
      ]
    },
    {
      "cell_type": "code",
      "source": [
        "import numpy as np\n",
        "\n",
        "t10_1 = np.random.randint(1, 10, (3, 4))\n",
        "t10_2 = np.random.randint(1, 10, 4)\n",
        "print(t10_1 * t10_2)"
      ],
      "metadata": {
        "id": "YmP_rghfeeGe",
        "colab": {
          "base_uri": "https://localhost:8080/"
        },
        "outputId": "7f52f53c-a2f9-4249-929e-543e2fb00530"
      },
      "execution_count": 12,
      "outputs": [
        {
          "output_type": "stream",
          "name": "stdout",
          "text": [
            "[[14 10 10 14]\n",
            " [ 4 16 30 56]\n",
            " [18  4 35 42]]\n"
          ]
        }
      ]
    },
    {
      "cell_type": "code",
      "source": [
        "import numpy as np\n",
        "\n",
        "t11_1 = np.random.random((2, 3))\n",
        "t11_2 = np.random.random(3)\n",
        "print(t11_1 * t11_2)"
      ],
      "metadata": {
        "id": "x8R3u6kgeeJg",
        "colab": {
          "base_uri": "https://localhost:8080/"
        },
        "outputId": "3eda82f8-7343-47c0-a803-7ad1e63d2ada"
      },
      "execution_count": 13,
      "outputs": [
        {
          "output_type": "stream",
          "name": "stdout",
          "text": [
            "[[0.20438475 0.11755653 0.54334034]\n",
            " [0.67373157 0.2102147  0.55121672]]\n"
          ]
        }
      ]
    },
    {
      "cell_type": "code",
      "source": [
        "import numpy as np\n",
        "\n",
        "t12_1 = np.random.randint(1, 10, (2, 2))\n",
        "t12_2 = np.random.randint(1, 10, (2, 2))\n",
        "print(t12_1 * t12_2)"
      ],
      "metadata": {
        "id": "-iNQfxNBeeMI",
        "colab": {
          "base_uri": "https://localhost:8080/"
        },
        "outputId": "2c8ba9e4-ecb7-49f5-9e16-e61a94606023"
      },
      "execution_count": 14,
      "outputs": [
        {
          "output_type": "stream",
          "name": "stdout",
          "text": [
            "[[56 30]\n",
            " [ 5  8]]\n"
          ]
        }
      ]
    },
    {
      "cell_type": "code",
      "source": [
        "import numpy as np\n",
        "\n",
        "t13_1 = np.random.randint(1, 10, (2, 2))\n",
        "t13_2 = np.random.randint(1, 10, (2, 2))\n",
        "print(np.dot(t13_1, t13_2))"
      ],
      "metadata": {
        "id": "uaCMqX5ceeOs",
        "colab": {
          "base_uri": "https://localhost:8080/"
        },
        "outputId": "7849cb0f-566a-462e-8bb3-460e2cb1498f"
      },
      "execution_count": 15,
      "outputs": [
        {
          "output_type": "stream",
          "name": "stdout",
          "text": [
            "[[25 12]\n",
            " [96 54]]\n"
          ]
        }
      ]
    },
    {
      "cell_type": "code",
      "source": [
        "import numpy as np\n",
        "\n",
        "t14 = np.random.randint(1, 100, (5, 5)).sum()\n",
        "print(t14)"
      ],
      "metadata": {
        "id": "4zL1mUkVeeRJ",
        "colab": {
          "base_uri": "https://localhost:8080/"
        },
        "outputId": "c6fc86c7-998b-46f2-8574-10e17973b6f6"
      },
      "execution_count": 16,
      "outputs": [
        {
          "output_type": "stream",
          "name": "stdout",
          "text": [
            "1201\n"
          ]
        }
      ]
    },
    {
      "cell_type": "code",
      "source": [
        "import numpy as np\n",
        "\n",
        "t15_1 = np.random.randint(1, 10, (4, 4))\n",
        "t15_2 = np.random.randint(1, 10, (4, 4))\n",
        "print(t15_1 - t15_2)"
      ],
      "metadata": {
        "id": "cOcxohhfeeT1",
        "colab": {
          "base_uri": "https://localhost:8080/"
        },
        "outputId": "867a8fbe-5c05-4551-f3e8-ce6545ed73fa"
      },
      "execution_count": 17,
      "outputs": [
        {
          "output_type": "stream",
          "name": "stdout",
          "text": [
            "[[ 7 -2  1  2]\n",
            " [-2 -2  0  0]\n",
            " [-1  6 -4  6]\n",
            " [ 1 -6 -3 -4]]\n"
          ]
        }
      ]
    },
    {
      "cell_type": "code",
      "source": [
        "import numpy as np\n",
        "\n",
        "t16 = np.random.random((3, 3)).sum(axis=1)\n",
        "print(t16)"
      ],
      "metadata": {
        "id": "H_8d9x-OeeXH",
        "colab": {
          "base_uri": "https://localhost:8080/"
        },
        "outputId": "326b46f5-c7a6-494b-cb3e-d66b88ab4e11"
      },
      "execution_count": 18,
      "outputs": [
        {
          "output_type": "stream",
          "name": "stdout",
          "text": [
            "[1.15682729 1.91291186 1.81698984]\n"
          ]
        }
      ]
    },
    {
      "cell_type": "code",
      "source": [
        "import numpy as np\n",
        "\n",
        "t17_1 = np.random.randint(1, 10, (3, 4))\n",
        "t17_2 = t17_1 ** 2\n",
        "print(t17_1)\n",
        "print(t17_2)"
      ],
      "metadata": {
        "id": "76p_wETgeeY3",
        "colab": {
          "base_uri": "https://localhost:8080/"
        },
        "outputId": "c1799971-84ee-4178-e295-b43dc6a1715b"
      },
      "execution_count": 19,
      "outputs": [
        {
          "output_type": "stream",
          "name": "stdout",
          "text": [
            "[[7 3 7 8]\n",
            " [2 8 9 3]\n",
            " [3 2 2 9]]\n",
            "[[49  9 49 64]\n",
            " [ 4 64 81  9]\n",
            " [ 9  4  4 81]]\n"
          ]
        }
      ]
    },
    {
      "cell_type": "code",
      "source": [
        "import numpy as np\n",
        "\n",
        "t18 = np.random.randint(1, 50, 4)\n",
        "print(np.sqrt(t18))"
      ],
      "metadata": {
        "id": "2tVoNAEPeedM",
        "colab": {
          "base_uri": "https://localhost:8080/"
        },
        "outputId": "fa4bca6f-93eb-47aa-9f3a-7f9ff4407a2c"
      },
      "execution_count": 20,
      "outputs": [
        {
          "output_type": "stream",
          "name": "stdout",
          "text": [
            "[4.89897949 2.23606798 4.89897949 4.35889894]\n"
          ]
        }
      ]
    }
  ]
}