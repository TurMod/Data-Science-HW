{
  "nbformat": 4,
  "nbformat_minor": 0,
  "metadata": {
    "colab": {
      "provenance": [],
      "authorship_tag": "ABX9TyPyHz+vUdk9W1WRG4V7vqzu",
      "include_colab_link": true
    },
    "kernelspec": {
      "name": "python3",
      "display_name": "Python 3"
    },
    "language_info": {
      "name": "python"
    }
  },
  "cells": [
    {
      "cell_type": "markdown",
      "metadata": {
        "id": "view-in-github",
        "colab_type": "text"
      },
      "source": [
        "<a href=\"https://colab.research.google.com/github/TurMod/Data-Science-HW/blob/main/Hw10.ipynb\" target=\"_parent\"><img src=\"https://colab.research.google.com/assets/colab-badge.svg\" alt=\"Open In Colab\"/></a>"
      ]
    },
    {
      "cell_type": "code",
      "execution_count": 1,
      "metadata": {
        "id": "vxfGCPKI-VWl",
        "colab": {
          "base_uri": "https://localhost:8080/"
        },
        "outputId": "cdea19af-53e2-48f6-ed78-f6703ada52e3"
      },
      "outputs": [
        {
          "output_type": "stream",
          "name": "stdout",
          "text": [
            "Downloading data from https://storage.googleapis.com/tensorflow/tf-keras-datasets/train-labels-idx1-ubyte.gz\n",
            "29515/29515 [==============================] - 0s 0us/step\n",
            "Downloading data from https://storage.googleapis.com/tensorflow/tf-keras-datasets/train-images-idx3-ubyte.gz\n",
            "26421880/26421880 [==============================] - 1s 0us/step\n",
            "Downloading data from https://storage.googleapis.com/tensorflow/tf-keras-datasets/t10k-labels-idx1-ubyte.gz\n",
            "5148/5148 [==============================] - 0s 0us/step\n",
            "Downloading data from https://storage.googleapis.com/tensorflow/tf-keras-datasets/t10k-images-idx3-ubyte.gz\n",
            "4422102/4422102 [==============================] - 1s 0us/step\n"
          ]
        }
      ],
      "source": [
        "from keras.datasets import fashion_mnist\n",
        "\n",
        "(x_train, y_train), (x_test, y_test) = fashion_mnist.load_data()"
      ]
    },
    {
      "cell_type": "code",
      "source": [
        "from keras.utils import to_categorical\n",
        "\n",
        "y_train = to_categorical(y_train, 10)\n",
        "y_test = to_categorical(y_test, 10)"
      ],
      "metadata": {
        "id": "QoZQEh4YHVer"
      },
      "execution_count": 2,
      "outputs": []
    },
    {
      "cell_type": "code",
      "source": [
        "from keras.layers import Conv2D, MaxPooling2D, Flatten, Dropout, Dense\n",
        "from keras.models import Sequential\n",
        "from keras.metrics import Precision, Recall, F1Score\n",
        "\n",
        "model = Sequential([\n",
        "    Conv2D(32, (3, 3), activation=\"relu\", input_shape=(28, 28, 1)),\n",
        "    MaxPooling2D((2, 2)),\n",
        "\n",
        "    Conv2D(64, (3, 3), activation=\"relu\"),\n",
        "    MaxPooling2D((2, 2)),\n",
        "\n",
        "    Flatten(),\n",
        "    Dropout(0.5),\n",
        "\n",
        "    Dense(128, activation=\"relu\"),\n",
        "    Dense(10, activation=\"softmax\")\n",
        "])\n",
        "\n",
        "model.compile(\n",
        "    optimizer='adam',\n",
        "    loss='categorical_crossentropy',\n",
        "    metrics=[\"accuracy\", Precision(), Recall(), F1Score()]\n",
        ")"
      ],
      "metadata": {
        "id": "ek4cG25A_aeo"
      },
      "execution_count": 3,
      "outputs": []
    },
    {
      "cell_type": "code",
      "source": [
        "model.summary()"
      ],
      "metadata": {
        "colab": {
          "base_uri": "https://localhost:8080/"
        },
        "id": "VjwLriEZAOPV",
        "outputId": "34422f41-cb62-4fdf-b6e7-e3417d25e6d9"
      },
      "execution_count": 4,
      "outputs": [
        {
          "output_type": "stream",
          "name": "stdout",
          "text": [
            "Model: \"sequential\"\n",
            "_________________________________________________________________\n",
            " Layer (type)                Output Shape              Param #   \n",
            "=================================================================\n",
            " conv2d (Conv2D)             (None, 26, 26, 32)        320       \n",
            "                                                                 \n",
            " max_pooling2d (MaxPooling2  (None, 13, 13, 32)        0         \n",
            " D)                                                              \n",
            "                                                                 \n",
            " conv2d_1 (Conv2D)           (None, 11, 11, 64)        18496     \n",
            "                                                                 \n",
            " max_pooling2d_1 (MaxPoolin  (None, 5, 5, 64)          0         \n",
            " g2D)                                                            \n",
            "                                                                 \n",
            " flatten (Flatten)           (None, 1600)              0         \n",
            "                                                                 \n",
            " dropout (Dropout)           (None, 1600)              0         \n",
            "                                                                 \n",
            " dense (Dense)               (None, 128)               204928    \n",
            "                                                                 \n",
            " dense_1 (Dense)             (None, 10)                1290      \n",
            "                                                                 \n",
            "=================================================================\n",
            "Total params: 225034 (879.04 KB)\n",
            "Trainable params: 225034 (879.04 KB)\n",
            "Non-trainable params: 0 (0.00 Byte)\n",
            "_________________________________________________________________\n"
          ]
        }
      ]
    },
    {
      "cell_type": "code",
      "source": [
        "x_train = x_train / 255.0\n",
        "x_test = x_test / 255.0\n",
        "\n",
        "\n",
        "history = model.fit(\n",
        "    x_train,\n",
        "    y_train,\n",
        "    epochs=20,\n",
        "    batch_size=128,\n",
        "    validation_data=(x_test, y_test),\n",
        ")"
      ],
      "metadata": {
        "colab": {
          "base_uri": "https://localhost:8080/"
        },
        "id": "aCkkS9icAmDg",
        "outputId": "e70cfcc6-2aa3-4167-c7c5-d8c03d36840b"
      },
      "execution_count": 5,
      "outputs": [
        {
          "output_type": "stream",
          "name": "stdout",
          "text": [
            "Epoch 1/20\n",
            "469/469 [==============================] - 66s 134ms/step - loss: 0.5912 - accuracy: 0.7852 - precision: 0.8609 - recall: 0.7128 - f1_score: 0.7833 - val_loss: 0.4225 - val_accuracy: 0.8518 - val_precision: 0.8867 - val_recall: 0.8115 - val_f1_score: 0.8483\n",
            "Epoch 2/20\n",
            "469/469 [==============================] - 48s 103ms/step - loss: 0.4001 - accuracy: 0.8554 - precision: 0.8864 - recall: 0.8248 - f1_score: 0.8545 - val_loss: 0.3589 - val_accuracy: 0.8693 - val_precision: 0.8946 - val_recall: 0.8481 - val_f1_score: 0.8702\n",
            "Epoch 3/20\n",
            "469/469 [==============================] - 49s 105ms/step - loss: 0.3486 - accuracy: 0.8731 - precision: 0.8967 - recall: 0.8494 - f1_score: 0.8723 - val_loss: 0.3140 - val_accuracy: 0.8875 - val_precision: 0.9089 - val_recall: 0.8687 - val_f1_score: 0.8859\n",
            "Epoch 4/20\n",
            "469/469 [==============================] - 47s 101ms/step - loss: 0.3188 - accuracy: 0.8832 - precision: 0.9043 - recall: 0.8640 - f1_score: 0.8827 - val_loss: 0.2885 - val_accuracy: 0.8968 - val_precision: 0.9153 - val_recall: 0.8798 - val_f1_score: 0.8963\n",
            "Epoch 5/20\n",
            "469/469 [==============================] - 48s 102ms/step - loss: 0.2981 - accuracy: 0.8893 - precision: 0.9081 - recall: 0.8704 - f1_score: 0.8888 - val_loss: 0.2968 - val_accuracy: 0.8901 - val_precision: 0.9070 - val_recall: 0.8743 - val_f1_score: 0.8920\n",
            "Epoch 6/20\n",
            "469/469 [==============================] - 48s 102ms/step - loss: 0.2783 - accuracy: 0.8977 - precision: 0.9153 - recall: 0.8824 - f1_score: 0.8973 - val_loss: 0.2672 - val_accuracy: 0.9023 - val_precision: 0.9171 - val_recall: 0.8901 - val_f1_score: 0.9029\n",
            "Epoch 7/20\n",
            "469/469 [==============================] - 47s 101ms/step - loss: 0.2658 - accuracy: 0.9019 - precision: 0.9175 - recall: 0.8873 - f1_score: 0.9016 - val_loss: 0.2784 - val_accuracy: 0.8940 - val_precision: 0.9105 - val_recall: 0.8805 - val_f1_score: 0.8918\n",
            "Epoch 8/20\n",
            "469/469 [==============================] - 47s 100ms/step - loss: 0.2576 - accuracy: 0.9046 - precision: 0.9202 - recall: 0.8906 - f1_score: 0.9043 - val_loss: 0.2518 - val_accuracy: 0.9075 - val_precision: 0.9216 - val_recall: 0.8954 - val_f1_score: 0.9076\n",
            "Epoch 9/20\n",
            "469/469 [==============================] - 48s 103ms/step - loss: 0.2400 - accuracy: 0.9107 - precision: 0.9249 - recall: 0.8971 - f1_score: 0.9104 - val_loss: 0.2462 - val_accuracy: 0.9121 - val_precision: 0.9256 - val_recall: 0.9009 - val_f1_score: 0.9111\n",
            "Epoch 10/20\n",
            "469/469 [==============================] - 48s 102ms/step - loss: 0.2339 - accuracy: 0.9136 - precision: 0.9260 - recall: 0.9014 - f1_score: 0.9133 - val_loss: 0.2425 - val_accuracy: 0.9096 - val_precision: 0.9238 - val_recall: 0.8993 - val_f1_score: 0.9100\n",
            "Epoch 11/20\n",
            "469/469 [==============================] - 47s 100ms/step - loss: 0.2268 - accuracy: 0.9145 - precision: 0.9278 - recall: 0.9025 - f1_score: 0.9143 - val_loss: 0.2417 - val_accuracy: 0.9108 - val_precision: 0.9232 - val_recall: 0.8995 - val_f1_score: 0.9116\n",
            "Epoch 12/20\n",
            "469/469 [==============================] - 48s 101ms/step - loss: 0.2173 - accuracy: 0.9182 - precision: 0.9303 - recall: 0.9072 - f1_score: 0.9180 - val_loss: 0.2417 - val_accuracy: 0.9088 - val_precision: 0.9219 - val_recall: 0.8984 - val_f1_score: 0.9082\n",
            "Epoch 13/20\n",
            "469/469 [==============================] - 48s 102ms/step - loss: 0.2119 - accuracy: 0.9201 - precision: 0.9313 - recall: 0.9092 - f1_score: 0.9200 - val_loss: 0.2411 - val_accuracy: 0.9116 - val_precision: 0.9222 - val_recall: 0.9029 - val_f1_score: 0.9121\n",
            "Epoch 14/20\n",
            "469/469 [==============================] - 49s 105ms/step - loss: 0.2064 - accuracy: 0.9222 - precision: 0.9329 - recall: 0.9127 - f1_score: 0.9219 - val_loss: 0.2282 - val_accuracy: 0.9156 - val_precision: 0.9271 - val_recall: 0.9060 - val_f1_score: 0.9146\n",
            "Epoch 15/20\n",
            "469/469 [==============================] - 47s 100ms/step - loss: 0.1961 - accuracy: 0.9261 - precision: 0.9357 - recall: 0.9173 - f1_score: 0.9259 - val_loss: 0.2308 - val_accuracy: 0.9139 - val_precision: 0.9266 - val_recall: 0.9040 - val_f1_score: 0.9145\n",
            "Epoch 16/20\n",
            "469/469 [==============================] - 47s 101ms/step - loss: 0.1916 - accuracy: 0.9281 - precision: 0.9381 - recall: 0.9188 - f1_score: 0.9280 - val_loss: 0.2300 - val_accuracy: 0.9181 - val_precision: 0.9301 - val_recall: 0.9086 - val_f1_score: 0.9177\n",
            "Epoch 17/20\n",
            "469/469 [==============================] - 48s 102ms/step - loss: 0.1884 - accuracy: 0.9293 - precision: 0.9385 - recall: 0.9215 - f1_score: 0.9291 - val_loss: 0.2181 - val_accuracy: 0.9223 - val_precision: 0.9332 - val_recall: 0.9119 - val_f1_score: 0.9217\n",
            "Epoch 18/20\n",
            "469/469 [==============================] - 49s 106ms/step - loss: 0.1803 - accuracy: 0.9310 - precision: 0.9397 - recall: 0.9231 - f1_score: 0.9308 - val_loss: 0.2194 - val_accuracy: 0.9211 - val_precision: 0.9292 - val_recall: 0.9141 - val_f1_score: 0.9209\n",
            "Epoch 19/20\n",
            "469/469 [==============================] - 47s 100ms/step - loss: 0.1779 - accuracy: 0.9319 - precision: 0.9406 - recall: 0.9247 - f1_score: 0.9317 - val_loss: 0.2244 - val_accuracy: 0.9186 - val_precision: 0.9276 - val_recall: 0.9084 - val_f1_score: 0.9177\n",
            "Epoch 20/20\n",
            "469/469 [==============================] - 46s 99ms/step - loss: 0.1722 - accuracy: 0.9345 - precision: 0.9422 - recall: 0.9274 - f1_score: 0.9343 - val_loss: 0.2300 - val_accuracy: 0.9186 - val_precision: 0.9258 - val_recall: 0.9123 - val_f1_score: 0.9180\n"
          ]
        }
      ]
    },
    {
      "cell_type": "code",
      "source": [
        "import matplotlib.pyplot as plt\n",
        "\n",
        "\n",
        "history_dict = history.history\n",
        "loss_values = history_dict['loss']\n",
        "val_loss_values = history_dict['val_loss']\n",
        "\n",
        "epochs = range(1, len(history_dict['accuracy']) + 1)\n",
        "\n",
        "plt.plot(epochs, loss_values, 'bo', label='Training loss')\n",
        "plt.plot(epochs, val_loss_values, 'b', label='Validation loss')\n",
        "plt.title('Training and validation loss')\n",
        "plt.xlabel('Epochs')\n",
        "plt.ylabel('Loss')\n",
        "plt.legend()\n",
        "plt.show()\n",
        "\n",
        "plt.clf()\n",
        "val_acc_values = history_dict['val_accuracy']\n",
        "plt.plot(epochs, history_dict['accuracy'], 'bo', label='Training acc')\n",
        "plt.plot(epochs, history_dict['val_accuracy'], 'b', label='Validation acc')\n",
        "plt.title('Training and validation accuracy')\n",
        "plt.xlabel('Epochs')\n",
        "plt.ylabel('Loss')\n",
        "plt.legend()"
      ],
      "metadata": {
        "id": "3cGoCiptBmbG",
        "colab": {
          "base_uri": "https://localhost:8080/",
          "height": 944
        },
        "outputId": "b581a06a-9578-4641-bec0-bb1b6eef101a"
      },
      "execution_count": 6,
      "outputs": [
        {
          "output_type": "display_data",
          "data": {
            "text/plain": [
              "<Figure size 640x480 with 1 Axes>"
            ],
            "image/png": "[encoded data removed]"
          },
          "metadata": {}
        },
        {
          "output_type": "execute_result",
          "data": {
            "text/plain": [
              "<matplotlib.legend.Legend at 0x78cf7ef40820>"
            ]
          },
          "metadata": {},
          "execution_count": 6
        },
        {
          "output_type": "display_data",
          "data": {
            "text/plain": [
              "<Figure size 640x480 with 1 Axes>"
            ],
            "image/png": "[encoded data removed]"
          },
          "metadata": {}
        }
      ]
    },
    {
      "cell_type": "code",
      "source": [
        "results = model.evaluate(x_test, y_test)\n",
        "print(results)"
      ],
      "metadata": {
        "id": "IKsbx1JqBqzU",
        "colab": {
          "base_uri": "https://localhost:8080/"
        },
        "outputId": "64c79a9e-021a-492d-cf9c-fb83607b398b"
      },
      "execution_count": 7,
      "outputs": [
        {
          "output_type": "stream",
          "name": "stdout",
          "text": [
            "313/313 [==============================] - 3s 9ms/step - loss: 0.2300 - accuracy: 0.9186 - precision: 0.9258 - recall: 0.9123 - f1_score: 0.9180\n",
            "[0.23000872135162354, 0.9186000227928162, 0.9258169531822205, 0.9122999906539917, array([0.86389965, 0.9883897 , 0.8761905 , 0.9265593 , 0.87569207,\n",
            "       0.9824032 , 0.74773335, 0.966193  , 0.9819096 , 0.9711684 ],\n",
            "      dtype=float32)]\n"
          ]
        }
      ]
    },
    {
      "cell_type": "markdown",
      "source": [
        "Згорткова нейромережа має кращі результати ніж звичайна багатошарова\n"
      ],
      "metadata": {
        "id": "nB_s0zjgo-gO"
      }
    },
    {
      "cell_type": "code",
      "source": [
        "import tensorflow as tf\n",
        "import numpy as np\n",
        "import albumentations as A\n",
        "\n",
        "from tensorflow import keras\n",
        "from tensorflow.keras.callbacks import LambdaCallback, ReduceLROnPlateau\n",
        "\n",
        "from keras.datasets import fashion_mnist\n",
        "from keras.utils import to_categorical\n",
        "from keras.models import Sequential\n",
        "from keras.layers import Dense, Dropout, BatchNormalization, Flatten, Conv2D, MaxPooling2D, Input\n",
        "from keras import optimizers, models, layers, losses, metrics\n",
        "from keras.applications.vgg16 import VGG16\n",
        "\n",
        "from sklearn.model_selection import train_test_split\n",
        "from sklearn.metrics import classification_report\n",
        "\n",
        "from tensorflow.keras.preprocessing.image import img_to_array, array_to_img, load_img\n",
        "from tensorflow.image import resize\n",
        "\n",
        "import pandas as pd\n",
        "import matplotlib.pyplot as plt\n",
        "\n",
        "\n",
        "thresh = 0.91\n",
        "initial_learning_rate = 0.01\n",
        "\n",
        "def on_epoch_end(epoch, logs):\n",
        "    if logs[\"val_accuracy\"] > thresh:\n",
        "        print(f\"\\nДосягнута точність на валідації {thresh}%. Зупинка навчання!\")\n",
        "        modified_model.stop_training = True\n",
        "\n",
        "conv_base = VGG16(weights=\"imagenet\", include_top=False, input_shape=(48, 48, 3))\n",
        "conv_base.trainable = False\n",
        "\n",
        "set_trainable = False\n",
        "for layer in conv_base.layers:\n",
        "    if layer.name == \"block5_conv1\":\n",
        "        set_trainable = True\n",
        "    if set_trainable:\n",
        "        layer.trainable = True\n",
        "    else:\n",
        "        layer.trainable = False\n",
        "\n",
        "modified_model = models.Sequential([\n",
        "    conv_base,\n",
        "    Flatten(),\n",
        "    Dense(512, activation=\"relu\"),\n",
        "    BatchNormalization(),\n",
        "    Dense(128, activation=\"relu\"),\n",
        "    BatchNormalization(),\n",
        "    Dense(10, activation=\"softmax\")\n",
        "])\n",
        "\n",
        "modified_model.compile(\n",
        "    optimizer=optimizers.RMSprop(learning_rate=initial_learning_rate),\n",
        "    loss=losses.sparse_categorical_crossentropy,\n",
        "    metrics=['accuracy']\n",
        ")\n",
        "\n",
        "lambda_cb = LambdaCallback(on_epoch_end=on_epoch_end)\n",
        "reduce_lr_cb = ReduceLROnPlateau(factor=0.5, patience=2)\n",
        "\n",
        "(x_train, y_train), (x_test, y_test) = fashion_mnist.load_data()\n",
        "\n",
        "x_train = x_train.reshape([-1, 784])\n",
        "x_train = np.dstack([x_train]*3)\n",
        "x_train = x_train.reshape(-1, 28, 28, 3)\n",
        "x_train = np.asarray([img_to_array(array_to_img(im, scale=False).resize((48,48))) for im in x_train])\n",
        "x_train = x_train.astype('float32') / 255.\n",
        "print('x_train shape:', x_train.shape)\n",
        "\n",
        "x_test = x_test.reshape([-1, 784])\n",
        "x_test = np.dstack([x_test]*3)\n",
        "x_test = x_test.reshape(-1, 28, 28, 3)\n",
        "x_test = np.asarray([img_to_array(array_to_img(im, scale=False).resize((48,48))) for im in x_test])\n",
        "x_test = x_test.astype('float32') / 255.\n",
        "print('x_test shape:', x_test.shape)\n",
        "print()\n",
        "\n",
        "\n",
        "history = modified_model.fit(x_train,\n",
        "                          y_train,\n",
        "                          epochs=15,\n",
        "                          batch_size=64,\n",
        "                          validation_data=(x_test, y_test),\n",
        "                          callbacks=[lambda_cb, reduce_lr_cb]\n",
        "                          )\n",
        "\n",
        "results1 = modified_model.evaluate(x_test, y_test)\n",
        "results2 = modified_model.evaluate(x_train, y_train)\n",
        "\n",
        "print(f'Train results: {results2}')\n",
        "print(f'Test results: {results1}')\n",
        "print(f'Difference in accuracy: {results2[1] - results1[1]}')\n",
        "\n",
        "class_names = [\n",
        "    \"T-shirt/top\", \"Trouser\", \"Pullover\", \"Dress\", \"Coat\",\n",
        "    \"Sandal\", \"Shirt\", \"Sneaker\", \"Bag\", \"Ankle boot\"\n",
        "]\n",
        "\n",
        "y_pred = modified_model.predict(x_test)\n",
        "y_pred_labels = np.argmax(y_pred, axis=1)\n",
        "\n",
        "print(\"Звіт про класифікацію:\")\n",
        "print(classification_report(y_test, y_pred_labels, target_names=class_names))\n",
        "\n",
        "pd.DataFrame(history.history).plot(figsize=(8, 5))\n",
        "plt.grid(True)\n",
        "plt.gca().set_ylim(0, 1)\n",
        "plt.show()\n"
      ],
      "metadata": {
        "id": "ytqKRZ17V1XJ",
        "outputId": "d8640c9f-7bc9-48fb-ec55-f4eb9c8f3ec9",
        "colab": {
          "base_uri": "https://localhost:8080/"
        }
      },
      "execution_count": null,
      "outputs": [
        {
          "output_type": "stream",
          "name": "stdout",
          "text": [
            "Downloading data from https://storage.googleapis.com/tensorflow/keras-applications/vgg16/vgg16_weights_tf_dim_ordering_tf_kernels_notop.h5\n",
            "58889256/58889256 [==============================] - 3s 0us/step\n",
            "x_train shape: (60000, 48, 48, 3)\n",
            "x_test shape: (10000, 48, 48, 3)\n",
            "\n",
            "Epoch 1/15\n",
            "938/938 [==============================] - 1826s 2s/step - loss: 0.4976 - accuracy: 0.8220 - val_loss: 0.4681 - val_accuracy: 0.8346 - lr: 0.0100\n",
            "Epoch 2/15\n",
            "397/938 [===========>..................] - ETA: 15:00 - loss: 0.3961 - accuracy: 0.8545"
          ]
        }
      ]
    }
  ]
}