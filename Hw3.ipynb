{
  "nbformat": 4,
  "nbformat_minor": 0,
  "metadata": {
    "colab": {
      "provenance": [],
      "authorship_tag": "ABX9TyOdJ7unHbHcH37UwEMlBakj",
      "include_colab_link": true
    },
    "kernelspec": {
      "name": "python3",
      "display_name": "Python 3"
    },
    "language_info": {
      "name": "python"
    }
  },
  "cells": [
    {
      "cell_type": "markdown",
      "metadata": {
        "id": "view-in-github",
        "colab_type": "text"
      },
      "source": [
        "<a href=\"https://colab.research.google.com/github/TurMod/Data-Science-HW/blob/main/Hw3.ipynb\" target=\"_parent\"><img src=\"https://colab.research.google.com/assets/colab-badge.svg\" alt=\"Open In Colab\"/></a>"
      ]
    },
    {
      "cell_type": "code",
      "execution_count": 4,
      "metadata": {
        "colab": {
          "base_uri": "https://localhost:8080/"
        },
        "id": "eKfN-knMsWMm",
        "outputId": "96449229-17e7-47ea-9fee-413b276573ee"
      },
      "outputs": [
        {
          "output_type": "stream",
          "name": "stdout",
          "text": [
            "[25.]\n"
          ]
        }
      ],
      "source": [
        "import numpy as np\n",
        "from sklearn.linear_model import LinearRegression\n",
        "\n",
        "X = np.array([\n",
        "    [2, 2],\n",
        "    [2, 3],\n",
        "    [2, 4],\n",
        "    [5, 1],\n",
        "    [5, 2]\n",
        "])\n",
        "\n",
        "y = np.dot(X, np.array([2, 3])) + 3\n",
        "\n",
        "reggresor = LinearRegression().fit(X, y)\n",
        "\n",
        "print(reggresor.predict(np.array([[5, 4]])))"
      ]
    },
    {
      "cell_type": "code",
      "source": [
        "def linear_regression_loss(X, y, model):\n",
        "  y_pred = model.predict(X)\n",
        "  error = y_pred - y\n",
        "  loss = np.mean(error**2)\n",
        "\n",
        "  return loss\n",
        "\n",
        "loss = linear_regression_loss(X, y, reggresor)\n",
        "print(loss)"
      ],
      "metadata": {
        "colab": {
          "base_uri": "https://localhost:8080/"
        },
        "id": "gUh7gwH4vzVh",
        "outputId": "53b462da-b07e-49d1-fa2c-b6e38dc67499"
      },
      "execution_count": 5,
      "outputs": [
        {
          "output_type": "stream",
          "name": "stdout",
          "text": [
            "0.0\n"
          ]
        }
      ]
    },
    {
      "cell_type": "code",
      "source": [
        "def gradient_descent_step(X, y, model, learning_rate):\n",
        "  y_pred = model.predict(X)\n",
        "  grad = 2/len(y) * X.T @ (y_pred - y)\n",
        "  model.coef_ = model.coef_ - learning_rate * grad\n",
        "\n",
        "  return model\n",
        "\n",
        "reggresor = gradient_descent_step(X, y, reggresor, 0.01)"
      ],
      "metadata": {
        "id": "_DtxT60k5buP"
      },
      "execution_count": 16,
      "outputs": []
    },
    {
      "cell_type": "code",
      "source": [
        "import pandas as pd\n",
        "\n",
        "data = pd.read_csv('Housing.csv')\n",
        "x = data[['area', 'bedrooms', 'bathrooms']].values\n",
        "y = data['price'].values\n",
        "\n",
        "reggresor_v2 = LinearRegression().fit(x, y)\n",
        "print(reggresor_v2.coef_)"
      ],
      "metadata": {
        "colab": {
          "base_uri": "https://localhost:8080/"
        },
        "id": "VNlq-_YlI0Rl",
        "outputId": "9374b0b9-69eb-4e48-e30d-c372d8923700"
      },
      "execution_count": 21,
      "outputs": [
        {
          "output_type": "stream",
          "name": "stdout",
          "text": [
            "[3.78762754e+02 4.06820034e+05 1.38604950e+06]\n"
          ]
        }
      ]
    },
    {
      "cell_type": "code",
      "source": [
        "X_trans = x.T\n",
        "X_trans_X = X_trans @ x\n",
        "X_trans_X_inv = np.linalg.inv(X_trans_X)\n",
        "w_opt = X_trans_X_inv @ X_trans @ y\n",
        "print(w_opt)"
      ],
      "metadata": {
        "colab": {
          "base_uri": "https://localhost:8080/"
        },
        "id": "iXnl-rPSQ4w0",
        "outputId": "d2fc48bc-4472-4fb4-9b4e-6c6e197cb79b"
      },
      "execution_count": 22,
      "outputs": [
        {
          "output_type": "stream",
          "name": "stdout",
          "text": [
            "[3.72448352e+02 3.68974672e+05 1.37031315e+06]\n"
          ]
        }
      ]
    },
    {
      "cell_type": "code",
      "source": [
        "reggresor_v2.coef_ == w_opt"
      ],
      "metadata": {
        "colab": {
          "base_uri": "https://localhost:8080/"
        },
        "id": "Z_uySisiRWq8",
        "outputId": "7a8582c8-4c98-48ea-c4b3-ba4afb7c94bf"
      },
      "execution_count": 23,
      "outputs": [
        {
          "output_type": "execute_result",
          "data": {
            "text/plain": [
              "array([False, False, False])"
            ]
          },
          "metadata": {},
          "execution_count": 23
        }
      ]
    }
  ]
}