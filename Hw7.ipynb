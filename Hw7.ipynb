{
  "nbformat": 4,
  "nbformat_minor": 0,
  "metadata": {
    "colab": {
      "provenance": [],
      "authorship_tag": "ABX9TyPpGSwITpu1zs8ey4G94Ile",
      "include_colab_link": true
    },
    "kernelspec": {
      "name": "python3",
      "display_name": "Python 3"
    },
    "language_info": {
      "name": "python"
    }
  },
  "cells": [
    {
      "cell_type": "markdown",
      "metadata": {
        "id": "view-in-github",
        "colab_type": "text"
      },
      "source": [
        "<a href=\"https://colab.research.google.com/github/TurMod/Data-Science-HW/blob/main/Hw7.ipynb\" target=\"_parent\"><img src=\"https://colab.research.google.com/assets/colab-badge.svg\" alt=\"Open In Colab\"/></a>"
      ]
    },
    {
      "source": [
        "pip install surprise"
      ],
      "cell_type": "code",
      "metadata": {
        "id": "-hzxdrivfhl6"
      },
      "execution_count": null,
      "outputs": []
    },
    {
      "cell_type": "code",
      "source": [
        "from surprise import Dataset, SVD, SVDpp, NMF\n",
        "from surprise.model_selection import cross_validate"
      ],
      "metadata": {
        "id": "uY4vA4NxiugM"
      },
      "execution_count": 23,
      "outputs": []
    },
    {
      "cell_type": "code",
      "source": [
        "data = Dataset.load_builtin(\"ml-100k\")"
      ],
      "metadata": {
        "id": "_81zf4FAk2kR"
      },
      "execution_count": 24,
      "outputs": []
    },
    {
      "cell_type": "code",
      "source": [
        "algo = SVD()\n",
        "cross_validate(algo, data, measures=[\"RMSE\", \"MAE\"], cv=6, verbose=True)"
      ],
      "metadata": {
        "colab": {
          "base_uri": "https://localhost:8080/"
        },
        "id": "7DlbffVNk1PI",
        "outputId": "4f68acbd-1e89-4c5b-fd4a-793d3f907b0b"
      },
      "execution_count": 25,
      "outputs": [
        {
          "output_type": "stream",
          "name": "stdout",
          "text": [
            "Evaluating RMSE, MAE of algorithm SVD on 6 split(s).\n",
            "\n",
            "                  Fold 1  Fold 2  Fold 3  Fold 4  Fold 5  Fold 6  Mean    Std     \n",
            "RMSE (testset)    0.9385  0.9370  0.9367  0.9355  0.9338  0.9262  0.9346  0.0040  \n",
            "MAE (testset)     0.7396  0.7394  0.7392  0.7350  0.7355  0.7287  0.7362  0.0039  \n",
            "Fit time          1.52    1.49    2.40    2.03    1.73    1.84    1.83    0.31    \n",
            "Test time         0.25    0.11    0.20    0.24    0.12    0.26    0.20    0.06    \n"
          ]
        },
        {
          "output_type": "execute_result",
          "data": {
            "text/plain": [
              "{'test_rmse': array([0.9385243 , 0.93695414, 0.93674787, 0.93547603, 0.93381295,\n",
              "        0.92621839]),\n",
              " 'test_mae': array([0.73962338, 0.73941026, 0.73919141, 0.73503116, 0.73545456,\n",
              "        0.72868252]),\n",
              " 'fit_time': (1.5170397758483887,\n",
              "  1.4859752655029297,\n",
              "  2.3985507488250732,\n",
              "  2.0317587852478027,\n",
              "  1.726604700088501,\n",
              "  1.8429031372070312),\n",
              " 'test_time': (0.25244808197021484,\n",
              "  0.11310505867004395,\n",
              "  0.20400023460388184,\n",
              "  0.23946166038513184,\n",
              "  0.12424945831298828,\n",
              "  0.25771379470825195)}"
            ]
          },
          "metadata": {},
          "execution_count": 25
        }
      ]
    },
    {
      "cell_type": "code",
      "source": [
        "algo = SVDpp()\n",
        "cross_validate(algo, data, measures=[\"RMSE\", \"MAE\"], cv=6, verbose=True)"
      ],
      "metadata": {
        "colab": {
          "base_uri": "https://localhost:8080/"
        },
        "id": "SmU0j6CmlU41",
        "outputId": "5773b5bf-46d0-4bfb-8434-dcb7296a72b1"
      },
      "execution_count": 26,
      "outputs": [
        {
          "output_type": "stream",
          "name": "stdout",
          "text": [
            "Evaluating RMSE, MAE of algorithm SVDpp on 6 split(s).\n",
            "\n",
            "                  Fold 1  Fold 2  Fold 3  Fold 4  Fold 5  Fold 6  Mean    Std     \n",
            "RMSE (testset)    0.9160  0.9130  0.9165  0.9228  0.9235  0.9178  0.9183  0.0037  \n",
            "MAE (testset)     0.7173  0.7175  0.7195  0.7220  0.7243  0.7204  0.7202  0.0025  \n",
            "Fit time          31.04   29.93   29.85   30.95   30.05   34.76   31.10   1.71    \n",
            "Test time         4.04    5.14    4.07    4.03    5.49    5.42    4.70    0.66    \n"
          ]
        },
        {
          "output_type": "execute_result",
          "data": {
            "text/plain": [
              "{'test_rmse': array([0.91603176, 0.9129822 , 0.9165153 , 0.92279933, 0.9235093 ,\n",
              "        0.91775735]),\n",
              " 'test_mae': array([0.71729063, 0.71753239, 0.71947749, 0.72204459, 0.72428112,\n",
              "        0.72039934]),\n",
              " 'fit_time': (31.03775978088379,\n",
              "  29.926360845565796,\n",
              "  29.84946036338806,\n",
              "  30.95472025871277,\n",
              "  30.04524254798889,\n",
              "  34.7572500705719),\n",
              " 'test_time': (4.041367292404175,\n",
              "  5.13826847076416,\n",
              "  4.070283651351929,\n",
              "  4.028828859329224,\n",
              "  5.492968559265137,\n",
              "  5.41948676109314)}"
            ]
          },
          "metadata": {},
          "execution_count": 26
        }
      ]
    },
    {
      "cell_type": "code",
      "source": [
        "algo = NMF()\n",
        "cross_validate(algo, data, measures=[\"RMSE\", \"MAE\"], cv=6, verbose=True)"
      ],
      "metadata": {
        "colab": {
          "base_uri": "https://localhost:8080/"
        },
        "id": "cs3CogD9maVu",
        "outputId": "d608b705-19a7-4aac-95d5-a77f40fc2e30"
      },
      "execution_count": 27,
      "outputs": [
        {
          "output_type": "stream",
          "name": "stdout",
          "text": [
            "Evaluating RMSE, MAE of algorithm NMF on 6 split(s).\n",
            "\n",
            "                  Fold 1  Fold 2  Fold 3  Fold 4  Fold 5  Fold 6  Mean    Std     \n",
            "RMSE (testset)    0.9628  0.9809  0.9583  0.9560  0.9565  0.9576  0.9620  0.0087  \n",
            "MAE (testset)     0.7562  0.7724  0.7530  0.7539  0.7535  0.7512  0.7567  0.0072  \n",
            "Fit time          2.76    2.86    2.82    3.26    2.74    2.66    2.85    0.19    \n",
            "Test time         0.12    0.25    0.16    0.25    0.09    0.12    0.17    0.06    \n"
          ]
        },
        {
          "output_type": "execute_result",
          "data": {
            "text/plain": [
              "{'test_rmse': array([0.96284231, 0.98086117, 0.95833391, 0.9560155 , 0.95650236,\n",
              "        0.95757023]),\n",
              " 'test_mae': array([0.75619042, 0.77237345, 0.75302909, 0.75388599, 0.753517  ,\n",
              "        0.75122983]),\n",
              " 'fit_time': (2.762054681777954,\n",
              "  2.8553032875061035,\n",
              "  2.8208982944488525,\n",
              "  3.2603836059570312,\n",
              "  2.7441227436065674,\n",
              "  2.659528970718384),\n",
              " 'test_time': (0.12327790260314941,\n",
              "  0.24631476402282715,\n",
              "  0.16341280937194824,\n",
              "  0.25206542015075684,\n",
              "  0.09060311317443848,\n",
              "  0.12250065803527832)}"
            ]
          },
          "metadata": {},
          "execution_count": 27
        }
      ]
    },
    {
      "cell_type": "markdown",
      "source": [
        "**NMF - топчик**"
      ],
      "metadata": {
        "id": "zGPBe0tim9jc"
      }
    }
  ]
}